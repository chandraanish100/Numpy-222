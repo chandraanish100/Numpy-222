{
 "cells": [
  {
   "cell_type": "code",
   "execution_count": 1,
   "id": "32e479e2-e9ec-4707-b00b-f309e2b77250",
   "metadata": {},
   "outputs": [
    {
     "ename": "SyntaxError",
     "evalue": "invalid syntax (889586105.py, line 1)",
     "output_type": "error",
     "traceback": [
      "\u001b[0;36m  Cell \u001b[0;32mIn[1], line 1\u001b[0;36m\u001b[0m\n\u001b[0;31m    A Python library is a collection of modules and packages that provide pre-written code to perform specific tasks. We use Python libraries to avoid rewriting code, simplify complex tasks, and enhance productivity by leveraging the functionalities provided by the library.\u001b[0m\n\u001b[0m      ^\u001b[0m\n\u001b[0;31mSyntaxError\u001b[0m\u001b[0;31m:\u001b[0m invalid syntax\n"
     ]
    }
   ],
   "source": [
    "A Python library is a collection of modules and packages that provide pre-written code to perform specific tasks. We use Python libraries to avoid rewriting code, simplify complex tasks, and enhance productivity by leveraging the functionalities provided by the library."
   ]
  },
  {
   "cell_type": "code",
   "execution_count": 2,
   "id": "bfe0f1af-094e-45cc-a99c-63812c7f8297",
   "metadata": {},
   "outputs": [
    {
     "ename": "SyntaxError",
     "evalue": "invalid syntax (3748149850.py, line 1)",
     "output_type": "error",
     "traceback": [
      "\u001b[0;36m  Cell \u001b[0;32mIn[2], line 1\u001b[0;36m\u001b[0m\n\u001b[0;31m    Numpy Array: Homogeneous data type, supports multi-dimensional arrays, provides a wide range of mathematical functions, and is optimized for performance.\u001b[0m\n\u001b[0m          ^\u001b[0m\n\u001b[0;31mSyntaxError\u001b[0m\u001b[0;31m:\u001b[0m invalid syntax\n"
     ]
    }
   ],
   "source": [
    "Numpy Array: Homogeneous data type, supports multi-dimensional arrays, provides a wide range of mathematical functions, and is optimized for performance.\n",
    "List: Can contain heterogeneous data types, is one-dimensional by default, and does not support advanced mathematical operations natively."
   ]
  },
  {
   "cell_type": "code",
   "execution_count": 3,
   "id": "982d47ba-c567-4e58-b88b-ac9ae017ce7e",
   "metadata": {},
   "outputs": [],
   "source": [
    "import numpy as np\n",
    "arr = np.array([[1, 2, 3, 4],\n",
    "                [5, 6, 7, 8],\n",
    "                [9, 10, 11, 12]])\n",
    "shape = arr.shape  # (3, 4)\n",
    "size = arr.size    # 12\n",
    "dimension = arr.ndim  # 2"
   ]
  },
  {
   "cell_type": "code",
   "execution_count": 4,
   "id": "159fd6de-b101-4cfd-9d51-5a3cc5d65b0d",
   "metadata": {},
   "outputs": [],
   "source": [
    "first_row = arr[0]  # Output: [1, 2, 3, 4]"
   ]
  },
  {
   "cell_type": "code",
   "execution_count": 5,
   "id": "47bde045-4389-42db-90b4-07a1c232358e",
   "metadata": {},
   "outputs": [],
   "source": [
    "element = arr[2, 3]  # Output: 12"
   ]
  },
  {
   "cell_type": "code",
   "execution_count": 6,
   "id": "97808175-3bfc-4f1f-91f2-bc95f67f052b",
   "metadata": {},
   "outputs": [],
   "source": [
    "odd_indexed_elements = arr[:, 1::2]  # Output: [[2, 4], [6, 8], [10, 12]]"
   ]
  },
  {
   "cell_type": "code",
   "execution_count": 7,
   "id": "8dadc158-08ac-4571-89bd-24ba281e0a51",
   "metadata": {},
   "outputs": [],
   "source": [
    "random_matrix = np.random.rand(3, 3)"
   ]
  },
  {
   "cell_type": "code",
   "execution_count": 8,
   "id": "2d47fe1f-add5-4573-874c-bffe84bdc55b",
   "metadata": {},
   "outputs": [
    {
     "ename": "SyntaxError",
     "evalue": "closing parenthesis ')' does not match opening parenthesis '[' (2744438635.py, line 1)",
     "output_type": "error",
     "traceback": [
      "\u001b[0;36m  Cell \u001b[0;32mIn[8], line 1\u001b[0;36m\u001b[0m\n\u001b[0;31m    np.random.rand: Generates random numbers from a uniform distribution over [0, 1).\u001b[0m\n\u001b[0m                                                                                   ^\u001b[0m\n\u001b[0;31mSyntaxError\u001b[0m\u001b[0;31m:\u001b[0m closing parenthesis ')' does not match opening parenthesis '['\n"
     ]
    }
   ],
   "source": [
    "np.random.rand: Generates random numbers from a uniform distribution over [0, 1).\n",
    "np.random.randn: Generates random numbers from a standard normal distribution (mean = 0, standard deviation = 1)."
   ]
  },
  {
   "cell_type": "code",
   "execution_count": 9,
   "id": "700a66c4-e768-466a-ac12-f46a04b7a201",
   "metadata": {},
   "outputs": [],
   "source": [
    "new_dimension = arr[np.newaxis, :]  # Adds a new axis, making it 3D"
   ]
  },
  {
   "cell_type": "code",
   "execution_count": 10,
   "id": "ca0627bc-ec11-4c35-b1fd-f4eff2f27600",
   "metadata": {},
   "outputs": [],
   "source": [
    "transposed_array = arr.T  # Transposes the array"
   ]
  },
  {
   "cell_type": "code",
   "execution_count": 11,
   "id": "215f6343-0535-4aec-a5e1-f5960495a37c",
   "metadata": {},
   "outputs": [],
   "source": [
    "A = np.array([[1, 2, 3, 4], \n",
    "              [5, 6, 7, 8], \n",
    "              [9, 10, 11, 12]])\n",
    "B = np.array([[1, 2, 3, 4], \n",
    "              [5, 6, 7, 8], \n",
    "              [9, 10, 11, 12]])\n",
    "\n",
    "# Index-wise multiplication\n",
    "indexwise_multiplication = A * B\n",
    "\n",
    "# Matrix multiplication\n",
    "matrix_multiplication = np.dot(A, B.T)\n",
    "\n",
    "# Add both matrices\n",
    "addition = A + B\n",
    "\n",
    "# Subtract matrix B from A\n",
    "subtraction = A - B\n",
    "\n",
    "# Divide Matrix B by A\n",
    "division = B / A"
   ]
  },
  {
   "cell_type": "code",
   "execution_count": 12,
   "id": "8554bee1-4b16-4f48-b245-0e763c0a624c",
   "metadata": {},
   "outputs": [
    {
     "ename": "SyntaxError",
     "evalue": "invalid syntax (1678415057.py, line 1)",
     "output_type": "error",
     "traceback": [
      "\u001b[0;36m  Cell \u001b[0;32mIn[12], line 1\u001b[0;36m\u001b[0m\n\u001b[0;31m    The function np.swapaxes() can be used to swap the byte order of an array.\u001b[0m\n\u001b[0m        ^\u001b[0m\n\u001b[0;31mSyntaxError\u001b[0m\u001b[0;31m:\u001b[0m invalid syntax\n"
     ]
    }
   ],
   "source": [
    "The function np.swapaxes() can be used to swap the byte order of an array."
   ]
  },
  {
   "cell_type": "code",
   "execution_count": 13,
   "id": "02d1eeeb-f646-4d99-a708-d4ef22583c54",
   "metadata": {},
   "outputs": [
    {
     "ename": "SyntaxError",
     "evalue": "invalid syntax (2064503227.py, line 1)",
     "output_type": "error",
     "traceback": [
      "\u001b[0;36m  Cell \u001b[0;32mIn[13], line 1\u001b[0;36m\u001b[0m\n\u001b[0;31m    The np.linalg.inv function computes the inverse of a square matrix, which is significant in solving linear equations and understanding matrix properties.\u001b[0m\n\u001b[0m        ^\u001b[0m\n\u001b[0;31mSyntaxError\u001b[0m\u001b[0;31m:\u001b[0m invalid syntax\n"
     ]
    }
   ],
   "source": [
    "The np.linalg.inv function computes the inverse of a square matrix, which is significant in solving linear equations and understanding matrix properties."
   ]
  },
  {
   "cell_type": "code",
   "execution_count": 14,
   "id": "4bf7d3fa-5108-44ad-86f6-287b3bd36d89",
   "metadata": {},
   "outputs": [],
   "source": [
    "reshaped_array = np.reshape(arr, (4, 3))  # Changes shape to 4 rows and 3 columns"
   ]
  },
  {
   "cell_type": "code",
   "execution_count": 15,
   "id": "c22d9503-30be-4201-9388-dacca7c98694",
   "metadata": {},
   "outputs": [
    {
     "ename": "SyntaxError",
     "evalue": "invalid syntax (3775007370.py, line 1)",
     "output_type": "error",
     "traceback": [
      "\u001b[0;36m  Cell \u001b[0;32mIn[15], line 1\u001b[0;36m\u001b[0m\n\u001b[0;31m    Broadcasting is a powerful mechanism that allows NumPy to perform arithmetic operations on arrays of different shapes. It automatically expands the smaller array across the larger array to make their shapes compatible for element-wise operations.\u001b[0m\n\u001b[0m                      ^\u001b[0m\n\u001b[0;31mSyntaxError\u001b[0m\u001b[0;31m:\u001b[0m invalid syntax\n"
     ]
    }
   ],
   "source": [
    "Broadcasting is a powerful mechanism that allows NumPy to perform arithmetic operations on arrays of different shapes. It automatically expands the smaller array across the larger array to make their shapes compatible for element-wise operations."
   ]
  },
  {
   "cell_type": "code",
   "execution_count": null,
   "id": "f0538cfe-8b43-4908-a256-f7bca8c810ce",
   "metadata": {},
   "outputs": [],
   "source": []
  }
 ],
 "metadata": {
  "kernelspec": {
   "display_name": "Python 3 (ipykernel)",
   "language": "python",
   "name": "python3"
  },
  "language_info": {
   "codemirror_mode": {
    "name": "ipython",
    "version": 3
   },
   "file_extension": ".py",
   "mimetype": "text/x-python",
   "name": "python",
   "nbconvert_exporter": "python",
   "pygments_lexer": "ipython3",
   "version": "3.10.8"
  }
 },
 "nbformat": 4,
 "nbformat_minor": 5
}
